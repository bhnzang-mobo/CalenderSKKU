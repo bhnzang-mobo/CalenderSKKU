{
 "cells": [
  {
   "cell_type": "code",
   "execution_count": 44,
   "metadata": {},
   "outputs": [],
   "source": [
    "#!/usr/bin/python\n",
    "# -*- coding: utf8 -*-\n",
    "\n",
    "from bs4 import BeautifulSoup\n",
    "import pandas as pd\n",
    "import json\n",
    "import urllib\n",
    "import re"
   ]
  },
  {
   "cell_type": "code",
   "execution_count": 46,
   "metadata": {},
   "outputs": [],
   "source": [
    "cal_json= urllib.request.urlopen(\"https://cs.skku.edu/rest/calendar\").read()"
   ]
  },
  {
   "cell_type": "code",
   "execution_count": 66,
   "metadata": {},
   "outputs": [
    {
     "name": "stdout",
     "output_type": "stream",
     "text": [
      "    id startdate   enddate                                        contents  \\\n",
      "0   14  02.22(월)  02.25(목)                        대학원과정 논문제출자격시험 응시(면제) 신청   \n",
      "1   15  02.22(월)  02.26(금)                                      수강신청 확인/변경   \n",
      "2   16  02.22(월)  02.25(목)  학사과정 조기졸업 신청/대학원과정(석박사통합) 조기수료 신청/석박사통합과정 포기신청   \n",
      "3   17  02.22(월)  03.09(화)                     2021학년도 1학기 추가 등록(분할납부자 포함)   \n",
      "4   13  02.22(월)  02.22(월)                       2021학년도 및 1학기 개시 / 1학기 개강   \n",
      "..  ..       ...       ...                                             ...   \n",
      "82  95  01.10(월)  02.25(금)                             2022학년도 1학기 일반휴학 신청   \n",
      "83  96  02.07(월)  02.09(수)                        2022학년도 1학기 등록금 분할납부 신청    \n",
      "84  97  02.11(금)  02.17(목)                   2022학년도 1학기 등록/분할납부 신청자 1차 등록   \n",
      "85  98  02.16(수)  02.16(수)                                  2022년 겨울 학위수여식   \n",
      "86  99  02.20(일)  02.20(일)                                         겨울방학 종료   \n",
      "\n",
      "                   createdAt                 updatedAt  \n",
      "0   2021-01-26T18:00:00.000Z  2021-01-26T18:00:00.000Z  \n",
      "1   2021-01-26T18:00:00.000Z  2021-01-26T18:00:00.000Z  \n",
      "2   2021-01-26T18:00:00.000Z  2021-01-26T18:00:00.000Z  \n",
      "3   2021-01-26T18:00:00.000Z  2021-01-26T18:00:00.000Z  \n",
      "4   2021-01-26T18:00:00.000Z  2021-01-26T18:00:00.000Z  \n",
      "..                       ...                       ...  \n",
      "82  2021-01-26T18:00:00.000Z  2021-01-26T18:00:00.000Z  \n",
      "83  2021-01-26T18:00:00.000Z  2021-01-26T18:00:00.000Z  \n",
      "84  2021-01-26T18:00:00.000Z  2021-01-26T18:00:00.000Z  \n",
      "85  2021-01-26T18:00:00.000Z  2021-01-26T18:00:00.000Z  \n",
      "86  2021-01-26T18:00:00.000Z  2021-01-26T18:00:00.000Z  \n",
      "\n",
      "[87 rows x 6 columns]\n"
     ]
    }
   ],
   "source": [
    "\n",
    "cal=json.loads(cal_json.decode('utf-8'))\n",
    "result = pd.DataFrame(cal['result'])\n",
    "result.to_excel(\"result.xlsx\", index=False)\n",
    "print(result)"
   ]
  },
  {
   "cell_type": "code",
   "execution_count": 18,
   "metadata": {},
   "outputs": [
    {
     "name": "stdout",
     "output_type": "stream",
     "text": [
      "<!DOCTYPE html>\n",
      "<html>\n",
      " <head>\n",
      "  <meta charset=\"utf-8\"/>\n",
      "  <meta content=\"IE=edge\" http-equiv=\"X-UA-Compatible\"/>\n",
      "  <meta content=\"width=device-width,initial-scale=1\" name=\"viewport\"/>\n",
      "  <title>\n",
      "   성균관대학교 소프트웨어 융합대학\n",
      "  </title>\n",
      "  <meta content=\"skku cs\" name=\"description\"/>\n",
      "  <meta content=\"scg@scg.skku.ac.kr\" name=\"author\"/>\n",
      "  <link as=\"style\" href=\"/css/app.eba9281f.css\" rel=\"preload\"/>\n",
      "  <link as=\"style\" href=\"/css/chunk-vendors.239ffe39.css\" rel=\"preload\"/>\n",
      "  <link as=\"script\" href=\"/js/app.b5461e59.js\" rel=\"preload\"/>\n",
      "  <link as=\"script\" href=\"/js/chunk-vendors.b34565b1.js\" rel=\"preload\"/>\n",
      "  <link href=\"/css/chunk-vendors.239ffe39.css\" rel=\"stylesheet\"/>\n",
      "  <link href=\"/css/app.eba9281f.css\" rel=\"stylesheet\"/>\n",
      " </head>\n",
      " <body>\n",
      "  <div id=\"app\">\n",
      "  </div>\n",
      "  <script src=\"/js/chunk-vendors.b34565b1.js\">\n",
      "  </script>\n",
      "  <script src=\"/js/app.b5461e59.js\">\n",
      "  </script>\n",
      " </body>\n",
      "</html>\n"
     ]
    }
   ],
   "source": [
    "def request(url):\n",
    "    \"\"\"지정한 url의 웹 문서를 요청하여, 본문을 반환한다.\"\"\"\n",
    "    response = urllib.request.urlopen(url).read()\n",
    "    \n",
    "    soup=BeautifulSoup(response,'html.parser')\n",
    "    return soup\n",
    "\n",
    "print(request(\"https://cs.skku.edu/\").prettify())"
   ]
  },
  {
   "cell_type": "code",
   "execution_count": null,
   "metadata": {},
   "outputs": [],
   "source": []
  }
 ],
 "metadata": {
  "kernelspec": {
   "display_name": "Python 3",
   "language": "python",
   "name": "python3"
  },
  "language_info": {
   "codemirror_mode": {
    "name": "ipython",
    "version": 3
   },
   "file_extension": ".py",
   "mimetype": "text/x-python",
   "name": "python",
   "nbconvert_exporter": "python",
   "pygments_lexer": "ipython3",
   "version": "3.8.5"
  }
 },
 "nbformat": 4,
 "nbformat_minor": 4
}
